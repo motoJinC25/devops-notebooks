{
    "metadata": {
        "kernelspec": {
            "name": "powershell",
            "display_name": "PowerShell"
        },
        "language_info": {
            "name": "powershell",
            "codemirror_mode": "shell",
            "mimetype": "text/x-sh",
            "file_extension": ".ps1"
        }
    },
    "nbformat_minor": 2,
    "nbformat": 4,
    "cells": [
        {
            "cell_type": "markdown",
            "source": [
                "# Resource Group\n",
                "\n",
                "## 定義"
            ],
            "metadata": {
                "azdata_cell_guid": "b7d0841e-6255-43c9-bcd2-835c1766f119"
            }
        },
        {
            "cell_type": "code",
            "source": [
                "# AzureサブスクリプションID取得\n",
                "$subscriptionId = (Get-AzSubscription).Id\n",
                "\n",
                "# サービス名\n",
                "$serviceName = \"demo\"\n",
                "\n",
                "# リソースID\n",
                "$resourceId = \"{0:000}\" -f (Get-Random -Maximum 999)\n",
                "\n",
                "# ロケーション(Japan East)\n",
                "# ((Get-AzResourceProvider -ProviderNamespace Microsoft.Resources).ResourceTypes | Where-Object ResourceTypeName -eq resourceGroups).Locations\n",
                "$location = \"Japan East\"\n",
                "\n",
                "# リソースグループ名\n",
                "# rg-<App or Service name>-<Subscription type>-<###>\n",
                "$resourceGroupName = \"rg-{0}-shared-{1}\" -f $ServiceName, $ResourceId"
            ],
            "metadata": {
                "azdata_cell_guid": "c6c8a2e1-123f-4961-abcd-9b912ad0cb1d"
            },
            "outputs": [],
            "execution_count": null
        },
        {
            "cell_type": "markdown",
            "source": [
                "## 確認"
            ],
            "metadata": {
                "azdata_cell_guid": "23921cca-6d95-4cef-bc93-502951de6dbb"
            }
        },
        {
            "cell_type": "code",
            "source": [
                "Write-Host $subscriptionId\n",
                "Write-Host $serviceName\n",
                "Write-Host $resourceId\n",
                "Write-Host $location\n",
                "Write-Host $resourceGroupName"
            ],
            "metadata": {
                "azdata_cell_guid": "aa59b1ba-d6b5-4376-b1ac-24ce077d3380"
            },
            "outputs": [],
            "execution_count": null
        },
        {
            "cell_type": "markdown",
            "source": [
                "## 作成\n",
                "\n",
                "> https://docs.microsoft.com/en-us/powershell/module/az.resources/new-azresourcegroup?view=azps-3.5.0"
            ],
            "metadata": {
                "azdata_cell_guid": "ed1b3fec-dcfb-4c01-aeb6-3177ff5cd42a"
            }
        },
        {
            "cell_type": "code",
            "source": [
                "# Create an empty resource group\n",
                "New-AzResourceGroup -Name $resourceGroupName -Location $Location"
            ],
            "metadata": {
                "azdata_cell_guid": "fe6194df-a9b8-4605-8cb8-34ae2a721e15"
            },
            "outputs": [],
            "execution_count": null
        },
        {
            "cell_type": "markdown",
            "source": [
                "## 削除\n",
                "\n",
                "> https://docs.microsoft.com/en-us/powershell/module/az.resources/remove-azresourcegroup?view=azps-3.5.0"
            ],
            "metadata": {
                "azdata_cell_guid": "4eb1501c-e442-421b-82c3-56b49c006a69"
            }
        },
        {
            "cell_type": "code",
            "source": [
                "# Remove a resource group without confirmation\n",
                "#Remove-AzResourceGroup -Name $resourceGroupName -Verbose -Force"
            ],
            "metadata": {
                "azdata_cell_guid": "7b0abba0-a925-45da-90e9-ab886f41dcff"
            },
            "outputs": [],
            "execution_count": null
        },
        {
            "cell_type": "markdown",
            "source": [
                "---\n",
                "[Naming rules and restrictions for Azure resources](https://docs.microsoft.com/en-us/azure/azure-resource-manager/management/resource-name-rules) <br>\n",
                "[Recommended naming and tagging conventions](https://docs.microsoft.com/en-us/azure/cloud-adoption-framework/ready/azure-best-practices/naming-and-tagging) <br>\n",
                "[PowerShell](https://docs.microsoft.com/en-us/powershell/scripting/overview?view=powershell-7) <br>\n",
                "[Azure PowerShell](https://docs.microsoft.com/en-us/powershell/azure/?view=azps-3.5.0)"
            ],
            "metadata": {
                "azdata_cell_guid": "1334a901-ef5d-46ed-a57b-c34fb346f6bd"
            }
        }
    ]
}