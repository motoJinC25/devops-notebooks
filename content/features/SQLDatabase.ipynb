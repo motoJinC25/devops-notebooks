{
    "metadata": {
        "kernelspec": {
            "name": "powershell",
            "display_name": "PowerShell"
        },
        "language_info": {
            "name": "powershell",
            "codemirror_mode": "shell",
            "mimetype": "text/x-sh",
            "file_extension": ".ps1"
        }
    },
    "nbformat_minor": 2,
    "nbformat": 4,
    "cells": [
        {
            "cell_type": "markdown",
            "source": [
                "# SQL Database\n",
                "\n",
                "## 定義"
            ],
            "metadata": {
                "azdata_cell_guid": "b7d0841e-6255-43c9-bcd2-835c1766f119"
            }
        },
        {
            "cell_type": "code",
            "source": [
                "# サービス名\n",
                "$serviceName = \"demo\"\n",
                "\n",
                "# リソースグループ設定\n",
                "# rg-<App or Service name>-<Subscription type>-<###>\n",
                "$resourceGroupName = \"rg-demo-prod-001\"\n",
                "\n",
                "# ロケーション(Japan East)\n",
                "# ((Get-AzResourceProvider -ProviderNamespace Microsoft.Sql).ResourceTypes | Where-Object ResourceTypeName -eq locations).Locations\n",
                "$location = \"Japan East\"\n",
                "\n",
                "# Set an admin login and password for your server\n",
                "$adminSqlLogin = \"DbAdmin\"\n",
                "$password = \"ChangePassword1\"\n",
                "\n",
                "# Set server name - the logical server name has to be unique in the system\n",
                "# sql-<App Name>-<Environment>\n",
                "$serverName = \"sql-{0}-prod\" -f $serviceName\n",
                "\n",
                "# The sample database name\n",
                "# sqldb-<Database Name>-<Environment>\n",
                "$databaseName = \"sqldb-{0}-prod\" -f $serviceName\n",
                "\n",
                "# The ip address range that you want to allow to access your server\n",
                "$startIp = \"0.0.0.0\"\n",
                "$endIp = \"0.0.0.0\""
            ],
            "metadata": {
                "azdata_cell_guid": "c6c8a2e1-123f-4961-abcd-9b912ad0cb1d"
            },
            "outputs": [],
            "execution_count": null
        },
        {
            "cell_type": "markdown",
            "source": [
                "## 確認"
            ],
            "metadata": {
                "azdata_cell_guid": "23921cca-6d95-4cef-bc93-502951de6dbb"
            }
        },
        {
            "cell_type": "code",
            "source": [
                "Write-Host $serviceName\n",
                "Write-Host $resourceGroupName\n",
                "Write-Host $location\n",
                "Write-Host $adminSqlLogin\n",
                "Write-Host $password\n",
                "Write-Host $serverName\n",
                "Write-Host $databaseName\n",
                "Write-Host $startIp\n",
                "Write-Host $endIp"
            ],
            "metadata": {
                "azdata_cell_guid": "aa59b1ba-d6b5-4376-b1ac-24ce077d3380"
            },
            "outputs": [],
            "execution_count": null
        },
        {
            "cell_type": "markdown",
            "source": [
                "## 作成\n",
                "\n",
                "> https://docs.microsoft.com/en-us/azure/sql-database/scripts/sql-database-create-and-configure-database-powershell"
            ],
            "metadata": {
                "azdata_cell_guid": "ed1b3fec-dcfb-4c01-aeb6-3177ff5cd42a"
            }
        },
        {
            "cell_type": "code",
            "source": [
                "# Create a server with a system wide unique server name\n",
                "New-AzSqlServer `\n",
                "    -ResourceGroupName $resourceGroupName `\n",
                "    -ServerName $serverName `\n",
                "    -Location $location `\n",
                "    -SqlAdministratorCredentials $(New-Object -TypeName System.Management.Automation.PSCredential -ArgumentList $adminSqlLogin, $(ConvertTo-SecureString -String $password -AsPlainText -Force))"
            ],
            "metadata": {
                "azdata_cell_guid": "fe6194df-a9b8-4605-8cb8-34ae2a721e15"
            },
            "outputs": [],
            "execution_count": null
        },
        {
            "cell_type": "code",
            "source": [
                "# Create a server firewall rule that allows access from the specified IP range\n",
                "New-AzSqlServerFirewallRule `\n",
                "    -ResourceGroupName $resourceGroupName `\n",
                "    -ServerName $serverName `\n",
                "    -FirewallRuleName \"AllowedIPs\" -StartIpAddress $startIp -EndIpAddress $endIp"
            ],
            "metadata": {
                "azdata_cell_guid": "af0a5a8a-e3dd-405a-849f-e987cc6faad7"
            },
            "outputs": [],
            "execution_count": null
        },
        {
            "cell_type": "code",
            "source": [
                "# Create a database with sample database\n",
                "New-AzSqlDatabase `\n",
                "    -ResourceGroupName $resourceGroupName `\n",
                "    -ServerName $serverName `\n",
                "    -DatabaseName $databaseName `\n",
                "    -SampleName \"AdventureWorksLT\" `\n",
                "    -Edition \"Basic\""
            ],
            "metadata": {
                "azdata_cell_guid": "768640fd-b1a1-4b09-8646-5ba34bffef31"
            },
            "outputs": [],
            "execution_count": null
        },
        {
            "cell_type": "markdown",
            "source": [
                "## 削除\n",
                "\n",
                "> https://docs.microsoft.com/en-us/powershell/module/az.resources/remove-azresourcegroup?view=azps-3.5.0"
            ],
            "metadata": {
                "azdata_cell_guid": "4eb1501c-e442-421b-82c3-56b49c006a69"
            }
        },
        {
            "cell_type": "code",
            "source": [
                "# Remove a resource group without confirmation\n",
                "#Remove-AzResourceGroup -Name $resourceGroupName -Verbose -Force"
            ],
            "metadata": {
                "azdata_cell_guid": "7b0abba0-a925-45da-90e9-ab886f41dcff"
            },
            "outputs": [],
            "execution_count": null
        },
        {
            "cell_type": "markdown",
            "source": [
                "---\n",
                "[Naming rules and restrictions for Azure resources](https://docs.microsoft.com/en-us/azure/azure-resource-manager/management/resource-name-rules) <br>\n",
                "[Recommended naming and tagging conventions](https://docs.microsoft.com/en-us/azure/cloud-adoption-framework/ready/azure-best-practices/naming-and-tagging) <br>\n",
                "[PowerShell](https://docs.microsoft.com/en-us/powershell/scripting/overview?view=powershell-7) <br>\n",
                "[Azure PowerShell](https://docs.microsoft.com/en-us/powershell/azure/?view=azps-3.5.0)"
            ],
            "metadata": {
                "azdata_cell_guid": "1334a901-ef5d-46ed-a57b-c34fb346f6bd"
            }
        }
    ]
}